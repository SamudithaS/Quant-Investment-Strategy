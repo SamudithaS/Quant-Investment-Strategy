{
 "cells": [
  {
   "cell_type": "markdown",
   "id": "3b5d4c4b",
   "metadata": {},
   "source": [
    "## ROI Calculator "
   ]
  },
  {
   "cell_type": "code",
   "execution_count": 1,
   "id": "d7cd2801",
   "metadata": {},
   "outputs": [],
   "source": [
    "#Importing libraries\n",
    "import pandas as pd"
   ]
  },
  {
   "cell_type": "code",
   "execution_count": 2,
   "id": "bb4b0405",
   "metadata": {},
   "outputs": [],
   "source": [
    "#Data preprocessing\n",
    "df = pd.read_csv('rl_portfolio_performance.csv',\n",
    "                header=None,\n",
    "                parse_dates=[0],\n",
    "                names=['Date', 'Return'])\n",
    "\n",
    "df['Return'] = pd.to_numeric(df['Return'].str.replace('%', ''), errors='coerce') / 100\n",
    "\n",
    "#Missing/invalid values\n",
    "df = df.dropna(subset=['Return'])\n",
    "\n",
    "#Sorting data\n",
    "df = df.sort_values('Date')"
   ]
  },
  {
   "cell_type": "code",
   "execution_count": 3,
   "id": "dd669a5e",
   "metadata": {},
   "outputs": [],
   "source": [
    "#Annulized return\n",
    "start_date = df['Date'].iloc[0]\n",
    "end_date = df['Date'].iloc[-1]\n",
    "delta_days = (end_date - start_date).days\n",
    "total_compounded_return = (1 + df['Return']).prod()\n",
    "years = delta_days / 365.25\n",
    "annualized_return = (total_compounded_return ** (1 / years)) - 1"
   ]
  },
  {
   "cell_type": "code",
   "execution_count": 7,
   "id": "3f0e8b0d",
   "metadata": {},
   "outputs": [],
   "source": [
    "#Investment calculator\n",
    "def investment_calculator():\n",
    "    while True:\n",
    "        try:\n",
    "            print(\"\\n\" + \"-\"*40)\n",
    "            principal = float(input(\"Enter initial investment amount (e.g., 10000): LKR\"))\n",
    "            period = float(input(\"Enter investment duration (numerical value): \"))\n",
    "            unit = input(\"Choose time unit (days/months/years): \").lower()\n",
    "            \n",
    "            # Convert to years\n",
    "            if unit == \"days\":\n",
    "                duration_years = period / 365.25\n",
    "            elif unit == \"months\":\n",
    "                duration_years = period / 12\n",
    "            elif unit == \"years\":\n",
    "                duration_years = period\n",
    "            else:\n",
    "                raise ValueError(\"Invalid time unit. Use days/months/years\")\n",
    "            \n",
    "            # Calculate future value\n",
    "            future_value = principal * (1 + annualized_return) ** duration_years\n",
    "            earnings = future_value - principal\n",
    "            \n",
    "            print(\"\\nInvestment Projection:\")\n",
    "            print(f\"Annualized Return: {annualized_return:.2%}\")\n",
    "            print(f\"Initial Principal: LKR{principal:,.2f}\")\n",
    "            print(f\"Investment Duration: {period} {unit}\")\n",
    "            print(f\"Total Earnings: LKR{earnings:,.2f}\")\n",
    "            print(f\"Future Value: LKR{future_value:,.2f}\")\n",
    "            break\n",
    "            \n",
    "        except ValueError as e:\n",
    "            print(f\"\\nError: {e}. Please try again.\")"
   ]
  },
  {
   "cell_type": "code",
   "execution_count": 8,
   "id": "348434cb",
   "metadata": {},
   "outputs": [
    {
     "name": "stdout",
     "output_type": "stream",
     "text": [
      "\n",
      "Portfolio Analysis (2022-01-16 to 2024-12-29)\n",
      "Total Days Tracked: 1078\n",
      "Annualized Return: 227.89%\n"
     ]
    }
   ],
   "source": [
    "#Displaying results\n",
    "print(f\"\\nPortfolio Analysis ({start_date.date()} to {end_date.date()})\")\n",
    "print(f\"Total Days Tracked: {delta_days}\")\n",
    "print(f\"Annualized Return: {annualized_return:.2%}\")"
   ]
  },
  {
   "cell_type": "code",
   "execution_count": 9,
   "id": "32c2c4e6",
   "metadata": {},
   "outputs": [
    {
     "name": "stdout",
     "output_type": "stream",
     "text": [
      "\n",
      "----------------------------------------\n",
      "Enter initial investment amount (e.g., 10000): LKR100\n",
      "Enter investment duration (numerical value): 1\n",
      "Choose time unit (days/months/years): months\n",
      "\n",
      "Investment Projection:\n",
      "Annualized Return: 227.89%\n",
      "Initial Principal: LKR100.00\n",
      "Investment Duration: 1.0 months\n",
      "Total Earnings: LKR10.40\n",
      "Future Value: LKR110.40\n",
      "\n",
      "Calculate another investment? (y/n): n\n"
     ]
    }
   ],
   "source": [
    "#Calculator\n",
    "while True:\n",
    "    investment_calculator()\n",
    "    if input(\"\\nCalculate another investment? (y/n): \").lower() != 'y':\n",
    "        break"
   ]
  },
  {
   "cell_type": "code",
   "execution_count": null,
   "id": "9d301556",
   "metadata": {},
   "outputs": [],
   "source": []
  }
 ],
 "metadata": {
  "kernelspec": {
   "display_name": "Python 3 (ipykernel)",
   "language": "python",
   "name": "python3"
  },
  "language_info": {
   "codemirror_mode": {
    "name": "ipython",
    "version": 3
   },
   "file_extension": ".py",
   "mimetype": "text/x-python",
   "name": "python",
   "nbconvert_exporter": "python",
   "pygments_lexer": "ipython3",
   "version": "3.9.19"
  }
 },
 "nbformat": 4,
 "nbformat_minor": 5
}
